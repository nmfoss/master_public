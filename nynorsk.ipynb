{
 "cells": [
  {
   "cell_type": "code",
   "execution_count": 1,
   "metadata": {},
   "outputs": [],
   "source": [
    "import pandas as pd\n",
    "import numpy as np"
   ]
  },
  {
   "cell_type": "code",
   "execution_count": 2,
   "metadata": {},
   "outputs": [],
   "source": [
    "corpus_df = pd.read_pickle('../pandas/lemma_delivered_merged_df.pkl')"
   ]
  },
  {
   "cell_type": "code",
   "execution_count": 3,
   "metadata": {},
   "outputs": [],
   "source": [
    "stopwords_nn = np.loadtxt('stopwords_nn.txt', dtype=str)\n",
    "stopwords_nb = np.loadtxt('stopwords.txt', dtype=str)"
   ]
  },
  {
   "cell_type": "code",
   "execution_count": 4,
   "metadata": {},
   "outputs": [],
   "source": [
    "nn_discriminate_indices = []\n",
    "\n",
    "for i in range(500):\n",
    "    if stopwords_nn[i] != stopwords_nb[i]:\n",
    "        nn_discriminate_indices.append(i)"
   ]
  },
  {
   "cell_type": "code",
   "execution_count": 5,
   "metadata": {},
   "outputs": [
    {
     "data": {
      "text/plain": [
       "array(['ein', 'dei', 'ikkje', 'han', 'eg', 'eit', 'såg', 'ho', 'frå',\n",
       "       'då', 'vart', 'han', 'òg', 'berre', 'no', 'noko', 'vera', 'dei',\n",
       "       'nokre', 'sjølv', 'seier', 'vore', 'gjekk', 'meir', 'kva', 'fekk',\n",
       "       'ein', 'kvar', 'sidan', 'heile', 'gong', 'saman', 'kjem', 'sjå',\n",
       "       'heilt', 'utan', 'vorte', 'viss', 'veit', 'hennar', 'same',\n",
       "       'mykje', 'gjera', 'desse', 'sett', 'fleire', 'anna', 'komma',\n",
       "       'korleis', 'gjer', 'anna', 'meiner', 'kvart', 'trur', 'låg',\n",
       "       'menneske', 'fram', 'verda', 'deira', 'tida', 'einaste',\n",
       "       'tidlegare', 'kvifor', 'kvarandre', 'heldt', 'betre', 'særs',\n",
       "       'kvart', 'byrja', 'ligg', 'de', 'komne', 'etter', 'eigen',\n",
       "       'vidare', 'millionar', 'allereie', 'endå', 'heim', 'føre',\n",
       "       'hovudet', 'saka', 'gonger', 'vart', 'landa', 'auga', 'no',\n",
       "       'synest', 'eitt', 'sette', 'kven', 'halda', 'spurde', 'stad',\n",
       "       'dagar', 'mogleg', 'utanfor', 'seinare', 'særleg', 'høyrde',\n",
       "       'arbeidd', 'unge', 'n-en', 'din', 'plutseleg', 'veg', 'dessutan',\n",
       "       'snakka', 'snakka', 'likevel', 'tenka', 'trådde', 'pengar',\n",
       "       'eigentleg', 'ønska', 'mitt', 'sit', 'vita', 'vesle', 'eine',\n",
       "       'gjeld', 'verkeleg', 'åleine', 'enno', 'heime', 'vanskelege',\n",
       "       'åren', 'vår', 'gammal', 'tidande', 'laurdag', 'elles', 'framleis',\n",
       "       'vegen', 'siger', 'finst', 'gongen', 'lét', 'høyra', 'gav',\n",
       "       'fortel', 'synst', 'setja', 'handa', 'meinte', 'følgja',\n",
       "       'framleis', 'venta', 'trudde', 'legg', 'regjeringa', 'åra', 'døme',\n",
       "       'ol', 'mora', 'held', 'staden', 'bruka', 'skulen', 'døra', 'eigne',\n",
       "       'eige', 'nærare', 'dårleg', 'treng', 'visa', 'oppa', 'finn',\n",
       "       'legga'], dtype='<U10')"
      ]
     },
     "execution_count": 5,
     "metadata": {},
     "output_type": "execute_result"
    }
   ],
   "source": [
    "stopwords_nn[nn_discriminate_indices]"
   ]
  },
  {
   "cell_type": "code",
   "execution_count": 6,
   "metadata": {},
   "outputs": [
    {
     "data": {
      "text/plain": [
       "array(['en', 'de', 'ikke', 'den', 'jeg', 'et', 'så', 'hun', 'fra', 'da',\n",
       "       'ble', 'ham', 'også', 'bare', 'nå', 'noe', 'være', 'dem', 'noen',\n",
       "       'selv', 'sier', 'vært', 'gikk', 'mer', 'hva', 'fikk', 'man',\n",
       "       'hvor', 'siden', 'hele', 'gang', 'sammen', 'kommer', 'se', 'helt',\n",
       "       'uten', 'blitt', 'hvis', 'vet', 'hennes', 'samme', 'mye', 'gjøre',\n",
       "       'disse', 'satt', 'flere', 'annet', 'komme', 'hvordan', 'gjør',\n",
       "       'annen', 'mener', 'hver', 'tror', 'lå', 'mennesker', 'frem',\n",
       "       'verden', 'deres', 'tiden', 'eneste', 'tidligere', 'hvorfor',\n",
       "       'hverandre', 'holdt', 'bedre', 'meget', 'hvert', 'begynte',\n",
       "       'ligger', 'dere', 'kommet', 'efter', 'egen', 'videre', 'millioner',\n",
       "       'allerede', 'enda', 'hjem', 'foran', 'hodet', 'saken', 'ganger',\n",
       "       'blev', 'landet', 'øynene', 'nu', 'synes', 'ett', 'satte', 'hvem',\n",
       "       'holde', 'spurte', 'sted', 'dager', 'mulig', 'utenfor', 'senere',\n",
       "       'særlig', 'hørte', 'arbeidet', 'din', 'unge', 'n', 'plutselig',\n",
       "       'vei', 'dessuten', 'snakket', 'snakke', 'imidlertid', 'tenke',\n",
       "       'tro', 'penger', 'egentlig', 'mitt', 'ønsker', 'sitter', 'vite',\n",
       "       'lille', 'ene', 'gjelder', 'virkelig', 'alene', 'ennå', 'hjemme',\n",
       "       'vårt', 'vanskelig', 'arne', 'gammel', 'tidende', 'lørdag',\n",
       "       'ellers', 'fortsatt', 'veien', 'seier', 'finnes', 'gangen', 'lot',\n",
       "       'høre', 'ga', 'forteller', 'syntes', 'sette', 'hånden', 'mente',\n",
       "       'følge', 'fremdeles', 'ventet', 'trodde', 'legger', 'regjeringen',\n",
       "       'årene', 'eksempel', 'ole', 'moren', 'holder', 'stedet', 'bruke',\n",
       "       'skolen', 'døren', 'egne', 'eget', 'nærmere', 'dårlig', 'trenger',\n",
       "       'vise', 'oppe', 'finner', 'legge'], dtype='<U11')"
      ]
     },
     "execution_count": 6,
     "metadata": {},
     "output_type": "execute_result"
    }
   ],
   "source": [
    "stopwords_nb[nn_discriminate_indices]"
   ]
  },
  {
   "cell_type": "code",
   "execution_count": 9,
   "metadata": {},
   "outputs": [
    {
     "name": "stdout",
     "output_type": "stream",
     "text": [
      "Tilsto drap i metadon-kø $. 41-åring som være tiltale for drap på Marius Kolstad $, ane ikke at en annen være uskyldig tiltale i sak $. $- ha jeg vite det $, skulle jeg tilstå for lenge siden $, si mann $. til Aftenposten $. Kjetil KOLSRUD $- selvforsvar $. 41-åring som være tiltale for å ha slå i hjel Marius Kolstad i 1999 $, fortelle i går tingrett at drap skje i nødverge $. han innrømme å ha slå Kolstad 13 gang i hode med en hammer $, men forklare at han tro Kolstad ville komme til å drepe han om ikke han selv slå først $. i rett i går komme det også frem at 41-åring først tre og en halv år etter drap få vite at en annen person være bli tiltale i sak $. det skje ved en ren tilfeldighet $, bare noen dag før sak mot uskyldig Stein Inge Johannessen skulle starte i 2002 $. Tilsto i metadon-kø $- det være en torsdag $, og jeg stå i kø på Mar $( helsestasjon $, red.anm $. $) for å få metadon $. foran jeg i køen stå en nabo som fortelle at han på mandag skulle i rett og vitne om drap på Marius Kolstad $. jeg si det rett ut til han $, jeg $: $\" han være det jeg som ha drepe ! $\" fortelle 41-åring til Aftenposten $. $- hva tenke du da $? $- da begynne det å koke litt i hode min $. det begynne å plage jeg $. $- du vite at han som bli uskyldig tiltale ha sitte seks måned i isolasjon for drap $? $- ha jeg vite det $, skulle jeg tilstå mye før $. han fortjene en erstatning $, fortelle 41-åring på tinghustrapp $. sen på kveld samme dag bestemme 41-åring seg for å fortelle politi om hvordan det hel egentlig hang sammen $. i rett i går fortelle han hvordan han be resepsjonist på hospits ringe 112 $. der få han beskjed om de ikke ha noen bil å sende $. for å få politi oppmerksomhet velge 41-åring deretter å velle TV $, utløse to pulverapparat og tenne på en stol og en plante $. $- Tåpelig gjøre $- jeg tro plante være noen slags lyng $, men det vise seg at det være noen nylon-greier $. det eksplodere jo nær når jeg tente på det $. jeg bruke vannslang og kontrollere flamme sånn at det bare røyk litt $, fortelle tiltalt $. $- være det virkelig nødvendig å gå så grundig til verks for å få politi til å komme $? undre dommer $. $- nei $. det være ikke det $. det være tåpelig gjøre av jeg $, forklare 41-åring angre overfor rett $. selv om 41-åring være svær åpen om at han slå Marius Kolstad i hjel $, erkjenne han altså ikke straffskyld $. mestepart av bevisføring i sak ville derfor dreie seg om hvorvidt 41-åring virkelig ha grunn til å frykte for sin liv $, slik at handling kunne forsvares som nødverge $. tiltalt og drapsoffer ha kjenne hverandre siden barndom $. i sin forklaring fortelle 41-åring at han alltid ha være redd for Kolstad $, som kunne være svær brutal $. drapsdag dra han dit likevel $, for å kjøpe heroin $. Kolstad skulle i den forbindelse ha anklage han for å ha stjele penge fra han $. ifølge tiltalt ligge barndomsvenn på sofa og true med å bruke hammer på han $, om han ikke tilsto $. $- jeg være lynrask og snappe hammer $. så kline jeg til $, fortelle 41-åring $, som være utdanne tømr $. $- sikte du mot noe $? ville aktor vite $. $- jeg sikte mot tinning $, sånn at han skulle besvime $. 41-åring forklare så at Kolstad ikke besvimme $, men i sted ta klypetak i hoft hans $. $- jeg være livredd $, og bare slå og slå $, si tiltalt i rett $. Obduksjon vise at Kolstad bli påføre liten 13 slag i hode $. rettssak være vente å vare uke ut. kjetil.kolsrud@aftenposten.no faktaramme drap * Eks-bodybuilde Marius Kolstad bli slå i hjel i sin leilighet i Konows gate i april 1999 $. * etter én år etterforskning bli en mann fra Bærum tiltale i sak $. * da sak skulle starte oktober 2002 $, vise det seg at en annen mann ha tilstå drap $. * det være i dag fastslå at Bærums-mann være uskyldig tiltale $. * han ville få oppreisning fra stat $, men det være ikke enighet om sum $. * til tross for tilståelse $, ha det ta to år å få sak for rett $.\n"
     ]
    }
   ],
   "source": [
    "print(corpus_df.iloc[28]['lemma_delivered'])"
   ]
  },
  {
   "cell_type": "code",
   "execution_count": 44,
   "metadata": {},
   "outputs": [
    {
     "name": "stdout",
     "output_type": "stream",
     "text": [
      "historisk brunnpissing $. kronikk 1. desember 2004 $\" språk og nazisme $: Stevnemøte med glemme ord $\" av statsstipendiat Eystein Eggen være eit samansurium av lausriven sitat og påstandar som ikkje lett kunne imøtegåiste på vanleg vis $. det han skrive om professor $. Nikolaus Gjelsvik og sorenskrivar og stortingsrepresentant Einar Stavang $, kunne likevel ikkje stå uimotsagt $. han ville ha det til at Gjelsvik $\" sammen med udyre Hamsun være forfatter av skrift $\" Revolusjonspolitikk og norsk lov $\" $\" $. ha han undersøke $, ville han sjå at det være tale om en bok av Herman Harris Aall på om lag 150 side $. Knut Hamsun skreive eit føreord på en side $. til slutt være det fire side referat av eit intervju med Nikolaus Gjelsvik fre Aftenposten 1. november 1930 $, der Gjelsvik stille seg kritisk til kommunisme $. av ein fotnote gå det fram at Gjelsvik ha $\" slutte sig til $\" Aalls synspunkt i ein tidlegar artikkel der spørsmål være om revolusjonær parti være lovleg $. Aall være ein sentral nasjonalsosialist $, men det finse ikkje spor av sympatiar for nasjonalsosialisme i det som være referere av Gjelsvik $. at Gjelsvik vart føre opp som medforfattar på bok $, måtte helst kalliste en tilsniking $. det være ikkje tvil om at Gjelsvik være tyskvenleg $, og mellom anne kritisere han Versailles-traktat $. men for ein som ha lese Gjelsvik skrift $, være det vanskeleg å tenkje seg at han kunne ha vorte nasjonalsosialist $, for ikkje å seie landssvikar $. Eggen trekkje fram at Einar Stavang være kritisk til landssvik-oppgjer $, og mein vite at det skulle vise sympati for nasjonalsosialisme $. dersom Eggen skulle klistre slik oppfatningar på alle som være kritisk til måte landssvikoppgjøre vart gjennomført på $, melde han seg ut av all seriøs diskusjon om desse spørsmål $. Dei som kjenne Einar Stavangs rotf demokratisk og humanistisk grunnhaldningar $, ville finne det vond og skammeleg at han på dette vise bli utsett for det som vel måtte kalliste historisk brunnpissing $. Kåre LILLEHOLT $, professor dr. juris $, Universitetet i Bergen $.\n",
      "7 29 20\n"
     ]
    }
   ],
   "source": [
    "for i in range(10):\n",
    "\n",
    "    article = np.array(corpus_df.iloc[i]['lemma_delivered'].split())\n",
    "    nn_score = np.in1d(article, stopwords_nn[nn_discriminate_indices]).sum()\n",
    "    nb_score = np.in1d(article, stopwords_nb[nn_discriminate_indices]).sum()\n",
    "\n",
    "    if nn_score > nb_score and nn_score > 10:\n",
    "        print(corpus_df.iloc[i]['lemma_delivered']) \n",
    "        print(i, nn_score, nb_score)\n",
    "            "
   ]
  },
  {
   "cell_type": "code",
   "execution_count": 10,
   "metadata": {},
   "outputs": [],
   "source": [
    "def nn_filter(art):\n",
    "    artcl = np.array(art.split())\n",
    "    nn_score = np.in1d(artcl, stopwords_nn[nn_discriminate_indices]).sum()\n",
    "    nb_score = np.in1d(artcl, stopwords_nb[nn_discriminate_indices]).sum()\n",
    "\n",
    "    if nn_score > nb_score and nn_score > 10:\n",
    "        return True\n",
    "    else:\n",
    "        return False"
   ]
  },
  {
   "cell_type": "code",
   "execution_count": 11,
   "metadata": {},
   "outputs": [],
   "source": [
    "is_nn = corpus_df['lemma_delivered'].apply(nn_filter)"
   ]
  },
  {
   "cell_type": "code",
   "execution_count": 12,
   "metadata": {},
   "outputs": [
    {
     "data": {
      "text/plain": [
       "1957"
      ]
     },
     "execution_count": 12,
     "metadata": {},
     "output_type": "execute_result"
    }
   ],
   "source": [
    "is_nn.sum()"
   ]
  },
  {
   "cell_type": "code",
   "execution_count": 13,
   "metadata": {},
   "outputs": [],
   "source": [
    "is_nn.to_pickle('../pandas/is_nn_full.pkl')"
   ]
  },
  {
   "cell_type": "code",
   "execution_count": 14,
   "metadata": {},
   "outputs": [],
   "source": [
    "corpus_df['is_nn'] = is_nn"
   ]
  },
  {
   "cell_type": "code",
   "execution_count": 15,
   "metadata": {},
   "outputs": [
    {
     "data": {
      "text/plain": [
       "51"
      ]
     },
     "execution_count": 15,
     "metadata": {},
     "output_type": "execute_result"
    }
   ],
   "source": [
    "corpus_df[corpus_df['agg_label'] != -1]['is_nn'].sum()"
   ]
  }
 ],
 "metadata": {
  "kernelspec": {
   "display_name": "Python 3",
   "language": "python",
   "name": "python3"
  },
  "language_info": {
   "codemirror_mode": {
    "name": "ipython",
    "version": 3
   },
   "file_extension": ".py",
   "mimetype": "text/x-python",
   "name": "python",
   "nbconvert_exporter": "python",
   "pygments_lexer": "ipython3",
   "version": "3.6.9"
  }
 },
 "nbformat": 4,
 "nbformat_minor": 4
}
